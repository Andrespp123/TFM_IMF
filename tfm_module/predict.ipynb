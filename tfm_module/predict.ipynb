{
 "cells": [
  {
   "cell_type": "code",
   "execution_count": 8,
   "id": "44bda378",
   "metadata": {},
   "outputs": [],
   "source": [
    "import pickle\n",
    "import requests\n",
    "import pandas as pd\n",
    "\n",
    "# Cargamos el modelo entrenado\n",
    "with open('modelo_entrenado_v1.pk1', 'rb') as f:\n",
    "    model = pickle.load(f)"
   ]
  },
  {
   "cell_type": "code",
   "execution_count": 32,
   "id": "caeac878",
   "metadata": {
    "scrolled": false
   },
   "outputs": [
    {
     "data": {
      "text/plain": [
       "['0l-l2j5NAIqtychRNs17Dw',\n",
       " 'LR6nRVRoP0g_wqqlIE8Ynw',\n",
       " 'PGbKlytumI2WaIefhtCALw',\n",
       " 'B_HkncKcyD0ZL3LsHmnzqg',\n",
       " 'Um1WimKhVLw3KB-OzRYfyQ',\n",
       " 'YV0VaJgV2zotzI7XNUaMCQ',\n",
       " 'oXVZ9OqrC55fp-3hDBvRCQ',\n",
       " 'jPIZ3FR5LNcwPuUHi2Fe4g',\n",
       " 'EW7kFuXTsXRQ4Kp7j6qxHw',\n",
       " '0Ao9422D82WgsiUbr_t_Qg',\n",
       " 'in7QM4vNUTHVZIi7Outetg',\n",
       " 'NBVvD__J9JjomKtdds6Gvg',\n",
       " 'cLXIlxKwnvUPg8JoxdfNwg',\n",
       " 'hcVN7B1tw4jvRTiORTFKjA',\n",
       " '_yInwn1jLMDuPaSuap-Jrg',\n",
       " 'Tr942SPajn138V7ZDx7Ckw',\n",
       " 'AiOb7w3Z9jS8XJdamgbU_A',\n",
       " 'J8n4z6pqHt8tiHkAaA0JVg',\n",
       " 'RbhDdQfSY4x_CM4HQDSHUA',\n",
       " 'p4EQbVuLddcTrgw_K8n8OA']"
      ]
     },
     "execution_count": 32,
     "metadata": {},
     "output_type": "execute_result"
    }
   ],
   "source": [
    "# Llave privada de YELP API\n",
    "API_KEY = 'ZCiemO3dscUrsLb8INf1d3KaA6hZPEkhbmvCu6va162wz4c2G-04aiCGEux729ZetfonkA41i68V2AIsFMxhXR68sa0xteZQRmot_J8KhRjvU_KFRxVxurlgOuJGZHYx'\n",
    "headers = {'Authorization': f'Bearer {API_KEY}'}\n",
    "params = {'term': 'McDonalds', 'location': 'New York'}\n",
    "\n",
    "url = 'https://api.yelp.com/v3/businesses/search'\n",
    "response = requests.get(url, headers=headers, params=params)\n",
    "\n",
    "businesses = response.json()['businesses']\n",
    "\n",
    "business_ids = []\n",
    "\n",
    "if businesses:\n",
    "    x = 0\n",
    "    for i in businesses:\n",
    "        a = i['id']\n",
    "        business_ids.append(a)\n",
    "        x += 1\n",
    "else:\n",
    "    print(\"No businesses found for the search term.\")\n",
    "    \n",
    "business_ids"
   ]
  },
  {
   "cell_type": "code",
   "execution_count": 35,
   "id": "73105e5d",
   "metadata": {},
   "outputs": [
    {
     "data": {
      "text/html": [
       "<div>\n",
       "<style scoped>\n",
       "    .dataframe tbody tr th:only-of-type {\n",
       "        vertical-align: middle;\n",
       "    }\n",
       "\n",
       "    .dataframe tbody tr th {\n",
       "        vertical-align: top;\n",
       "    }\n",
       "\n",
       "    .dataframe thead th {\n",
       "        text-align: right;\n",
       "    }\n",
       "</style>\n",
       "<table border=\"1\" class=\"dataframe\">\n",
       "  <thead>\n",
       "    <tr style=\"text-align: right;\">\n",
       "      <th></th>\n",
       "      <th>id</th>\n",
       "      <th>text</th>\n",
       "      <th>rating</th>\n",
       "      <th>time_created</th>\n",
       "      <th>user</th>\n",
       "    </tr>\n",
       "  </thead>\n",
       "  <tbody>\n",
       "    <tr>\n",
       "      <th>0</th>\n",
       "      <td>A_T8F4Na1-5oVWvHrOs6_Q</td>\n",
       "      <td>1)east 14th st location. my friend Carol who s...</td>\n",
       "      <td>2</td>\n",
       "      <td>2023-03-23 08:24:41</td>\n",
       "      <td>{'id': 'DLefWraiObJrlmmeT1hQ7Q', 'profile_url'...</td>\n",
       "    </tr>\n",
       "    <tr>\n",
       "      <th>1</th>\n",
       "      <td>3gbFjayzRE3QMwhlYololA</td>\n",
       "      <td>Pretty decent McDonalds to get decently priced...</td>\n",
       "      <td>3</td>\n",
       "      <td>2023-03-31 16:45:34</td>\n",
       "      <td>{'id': 'ibPNMYiIAZf51AWhgmRRBQ', 'profile_url'...</td>\n",
       "    </tr>\n",
       "    <tr>\n",
       "      <th>2</th>\n",
       "      <td>lHw1G0aLfj8hVlS6QQqOpQ</td>\n",
       "      <td>The woman behind the counter was very rude to ...</td>\n",
       "      <td>1</td>\n",
       "      <td>2023-04-20 07:11:32</td>\n",
       "      <td>{'id': '__Mg1kdxhl1N3GLx0al-ow', 'profile_url'...</td>\n",
       "    </tr>\n",
       "  </tbody>\n",
       "</table>\n",
       "</div>"
      ],
      "text/plain": [
       "                       id                                               text   \n",
       "0  A_T8F4Na1-5oVWvHrOs6_Q  1)east 14th st location. my friend Carol who s...  \\\n",
       "1  3gbFjayzRE3QMwhlYololA  Pretty decent McDonalds to get decently priced...   \n",
       "2  lHw1G0aLfj8hVlS6QQqOpQ  The woman behind the counter was very rude to ...   \n",
       "\n",
       "   rating         time_created   \n",
       "0       2  2023-03-23 08:24:41  \\\n",
       "1       3  2023-03-31 16:45:34   \n",
       "2       1  2023-04-20 07:11:32   \n",
       "\n",
       "                                                user  \n",
       "0  {'id': 'DLefWraiObJrlmmeT1hQ7Q', 'profile_url'...  \n",
       "1  {'id': 'ibPNMYiIAZf51AWhgmRRBQ', 'profile_url'...  \n",
       "2  {'id': '__Mg1kdxhl1N3GLx0al-ow', 'profile_url'...  "
      ]
     },
     "execution_count": 35,
     "metadata": {},
     "output_type": "execute_result"
    }
   ],
   "source": [
    "\n",
    "# set up parameters for the Yelp API request\n",
    "url2= 'https://api.yelp.com/v3/businesses/{restaurant_id}/reviews'\n",
    "params2 = {'sort_by': 'desc'}\n",
    "\n",
    "# make the API request\n",
    "response = requests.get(url2.format(restaurant_id='0l-l2j5NAIqtychRNs17Dw'), headers=headers, params=params2)\n",
    "reviews = response.json()['reviews']\n",
    "\n",
    "# create a pandas DataFrame from the review data\n",
    "df = pd.DataFrame(reviews, columns=['id', 'text', 'rating', 'time_created', 'user'])\n",
    "\n",
    "# display the DataFrame\n",
    "df"
   ]
  }
 ],
 "metadata": {
  "kernelspec": {
   "display_name": "Python 3 (ipykernel)",
   "language": "python",
   "name": "python3"
  },
  "language_info": {
   "codemirror_mode": {
    "name": "ipython",
    "version": 3
   },
   "file_extension": ".py",
   "mimetype": "text/x-python",
   "name": "python",
   "nbconvert_exporter": "python",
   "pygments_lexer": "ipython3",
   "version": "3.10.9"
  }
 },
 "nbformat": 4,
 "nbformat_minor": 5
}
