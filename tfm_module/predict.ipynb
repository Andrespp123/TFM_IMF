{
 "cells": [
  {
   "cell_type": "code",
   "execution_count": 1,
   "id": "44bda378",
   "metadata": {
    "scrolled": false
   },
   "outputs": [
    {
     "name": "stdout",
     "output_type": "stream",
     "text": [
      "Reviews for training: 18917\n",
      "                                                text  liked\n",
      "1  I've taken a lot of spin classes over the year...    1.0\n",
      "3  Wow!  Yummy, different,  delicious.   Our favo...    1.0\n",
      "5  I am a long term frequent customer of this est...    0.0\n",
      "6  Loved this tour! I grabbed a groupon and the p...    1.0\n",
      "7  Amazingly amazing wings and homemade bleu chee...    1.0\n"
     ]
    }
   ],
   "source": [
    "import pickle\n",
    "import requests\n",
    "import pandas as pd\n",
    "import pandas_gbq\n",
    "import re\n",
    "from google.cloud import bigquery\n",
    "from nltk.stem import PorterStemmer\n",
    "from nltk.corpus import stopwords\n",
    "from sklearn.utils import resample\n",
    "from tfm_module.json_processing import review_df\n",
    "\n",
    "\n",
    "\n",
    "# Cargamos el modelo entrenado\n",
    "with open('modelo_entrenado_v1.pk1', 'rb') as f:\n",
    "    model = pickle.load(f)"
   ]
  },
  {
   "cell_type": "code",
   "execution_count": 2,
   "id": "fb0e177d",
   "metadata": {},
   "outputs": [
    {
     "data": {
      "text/html": [
       "<div>\n",
       "<style scoped>\n",
       "    .dataframe tbody tr th:only-of-type {\n",
       "        vertical-align: middle;\n",
       "    }\n",
       "\n",
       "    .dataframe tbody tr th {\n",
       "        vertical-align: top;\n",
       "    }\n",
       "\n",
       "    .dataframe thead th {\n",
       "        text-align: right;\n",
       "    }\n",
       "</style>\n",
       "<table border=\"1\" class=\"dataframe\">\n",
       "  <thead>\n",
       "    <tr style=\"text-align: right;\">\n",
       "      <th></th>\n",
       "      <th>text</th>\n",
       "      <th>liked</th>\n",
       "    </tr>\n",
       "  </thead>\n",
       "  <tbody>\n",
       "    <tr>\n",
       "      <th>1</th>\n",
       "      <td>I've taken a lot of spin classes over the year...</td>\n",
       "      <td>1.0</td>\n",
       "    </tr>\n",
       "    <tr>\n",
       "      <th>3</th>\n",
       "      <td>Wow!  Yummy, different,  delicious.   Our favo...</td>\n",
       "      <td>1.0</td>\n",
       "    </tr>\n",
       "    <tr>\n",
       "      <th>5</th>\n",
       "      <td>I am a long term frequent customer of this est...</td>\n",
       "      <td>0.0</td>\n",
       "    </tr>\n",
       "    <tr>\n",
       "      <th>6</th>\n",
       "      <td>Loved this tour! I grabbed a groupon and the p...</td>\n",
       "      <td>1.0</td>\n",
       "    </tr>\n",
       "    <tr>\n",
       "      <th>7</th>\n",
       "      <td>Amazingly amazing wings and homemade bleu chee...</td>\n",
       "      <td>1.0</td>\n",
       "    </tr>\n",
       "    <tr>\n",
       "      <th>...</th>\n",
       "      <td>...</td>\n",
       "      <td>...</td>\n",
       "    </tr>\n",
       "    <tr>\n",
       "      <th>29992</th>\n",
       "      <td>So glad Urban Village took our reservation for...</td>\n",
       "      <td>1.0</td>\n",
       "    </tr>\n",
       "    <tr>\n",
       "      <th>29994</th>\n",
       "      <td>I've eaten here several times but today was pr...</td>\n",
       "      <td>1.0</td>\n",
       "    </tr>\n",
       "    <tr>\n",
       "      <th>29995</th>\n",
       "      <td>The best sandwich in the Reno/Sparks area! I'v...</td>\n",
       "      <td>1.0</td>\n",
       "    </tr>\n",
       "    <tr>\n",
       "      <th>29998</th>\n",
       "      <td>This is the biggest joke of a club of all time...</td>\n",
       "      <td>0.0</td>\n",
       "    </tr>\n",
       "    <tr>\n",
       "      <th>29999</th>\n",
       "      <td>Cosi made a really DUMB move this week. I went...</td>\n",
       "      <td>0.0</td>\n",
       "    </tr>\n",
       "  </tbody>\n",
       "</table>\n",
       "<p>18917 rows × 2 columns</p>\n",
       "</div>"
      ],
      "text/plain": [
       "                                                    text  liked\n",
       "1      I've taken a lot of spin classes over the year...    1.0\n",
       "3      Wow!  Yummy, different,  delicious.   Our favo...    1.0\n",
       "5      I am a long term frequent customer of this est...    0.0\n",
       "6      Loved this tour! I grabbed a groupon and the p...    1.0\n",
       "7      Amazingly amazing wings and homemade bleu chee...    1.0\n",
       "...                                                  ...    ...\n",
       "29992  So glad Urban Village took our reservation for...    1.0\n",
       "29994  I've eaten here several times but today was pr...    1.0\n",
       "29995  The best sandwich in the Reno/Sparks area! I'v...    1.0\n",
       "29998  This is the biggest joke of a club of all time...    0.0\n",
       "29999  Cosi made a really DUMB move this week. I went...    0.0\n",
       "\n",
       "[18917 rows x 2 columns]"
      ]
     },
     "execution_count": 2,
     "metadata": {},
     "output_type": "execute_result"
    }
   ],
   "source": [
    "review_df"
   ]
  },
  {
   "cell_type": "code",
   "execution_count": 3,
   "id": "439ec29f",
   "metadata": {
    "scrolled": true
   },
   "outputs": [],
   "source": [
    "# Hacemos undersampling para evitar el sesgo\n",
    "balance = len(review_df[review_df['liked']==0])\n",
    "\n",
    "df_majority = review_df[review_df['liked']==1]\n",
    "df_minority = review_df[review_df['liked']==0]\n",
    "df_majority_undersampled = resample(df_majority, replace=False, n_samples=balance, random_state=42)\n",
    "review_df = pd.concat([df_majority_undersampled, df_minority])"
   ]
  },
  {
   "cell_type": "code",
   "execution_count": 4,
   "id": "1e19697a",
   "metadata": {},
   "outputs": [],
   "source": [
    "# Reiniciamos el índice manualmente antes del próximo paso\n",
    "review_df = review_df.reset_index(drop=True)"
   ]
  },
  {
   "cell_type": "code",
   "execution_count": 5,
   "id": "e00f50ff",
   "metadata": {},
   "outputs": [],
   "source": [
    "import re\n",
    "from nltk.stem import PorterStemmer\n",
    "from nltk.corpus import stopwords\n",
    "ps = PorterStemmer()\n",
    "\n",
    "\n",
    "reviews_procesadas=[]\n",
    "\n",
    "for i in range(0,len(review_df)):\n",
    "    text = review_df['text'][i]\n",
    "    if text:\n",
    "        Review = re.sub('[^a-zA-Z]',' ',review_df['text'][i])\n",
    "        Review = Review.lower()\n",
    "        Review = Review.split()\n",
    "        Review = [ps.stem(word) for word in Review if word not in set(stopwords.words('english'))]\n",
    "        Review = ' '.join(Review)\n",
    "        reviews_procesadas.append(Review)\n",
    "    \n",
    "    else:\n",
    "        reviews_procesadas.append('To discard')"
   ]
  },
  {
   "cell_type": "code",
   "execution_count": 6,
   "id": "2c932ca8",
   "metadata": {},
   "outputs": [],
   "source": [
    "# Sustituimos las reviews procesadas en el mismo dataframe de entrenamiento\n",
    "review_df['text'] = reviews_procesadas\n",
    "df_modificado = review_df"
   ]
  },
  {
   "cell_type": "code",
   "execution_count": 7,
   "id": "fa63f932",
   "metadata": {},
   "outputs": [],
   "source": [
    "X = review_df['text']\n",
    "y = review_df['liked']"
   ]
  },
  {
   "cell_type": "code",
   "execution_count": 8,
   "id": "fd715e59",
   "metadata": {},
   "outputs": [],
   "source": [
    "# Train Test Split\n",
    "from sklearn.model_selection import train_test_split\n",
    "X_train, X_test, y_train, y_test = train_test_split(X, y, test_size = 0.30, random_state = 0)"
   ]
  },
  {
   "cell_type": "code",
   "execution_count": 9,
   "id": "c17ce658",
   "metadata": {},
   "outputs": [],
   "source": [
    "from sklearn.feature_extraction.text import TfidfVectorizer\n",
    "vectorizer = TfidfVectorizer()\n",
    "X_train_vect = vectorizer.fit_transform(X_train)\n",
    "X_test_vect = vectorizer.transform(X_test)"
   ]
  },
  {
   "cell_type": "code",
   "execution_count": 10,
   "id": "605f5277",
   "metadata": {
    "scrolled": false
   },
   "outputs": [
    {
     "data": {
      "text/html": [
       "<style>#sk-container-id-1 {color: black;background-color: white;}#sk-container-id-1 pre{padding: 0;}#sk-container-id-1 div.sk-toggleable {background-color: white;}#sk-container-id-1 label.sk-toggleable__label {cursor: pointer;display: block;width: 100%;margin-bottom: 0;padding: 0.3em;box-sizing: border-box;text-align: center;}#sk-container-id-1 label.sk-toggleable__label-arrow:before {content: \"▸\";float: left;margin-right: 0.25em;color: #696969;}#sk-container-id-1 label.sk-toggleable__label-arrow:hover:before {color: black;}#sk-container-id-1 div.sk-estimator:hover label.sk-toggleable__label-arrow:before {color: black;}#sk-container-id-1 div.sk-toggleable__content {max-height: 0;max-width: 0;overflow: hidden;text-align: left;background-color: #f0f8ff;}#sk-container-id-1 div.sk-toggleable__content pre {margin: 0.2em;color: black;border-radius: 0.25em;background-color: #f0f8ff;}#sk-container-id-1 input.sk-toggleable__control:checked~div.sk-toggleable__content {max-height: 200px;max-width: 100%;overflow: auto;}#sk-container-id-1 input.sk-toggleable__control:checked~label.sk-toggleable__label-arrow:before {content: \"▾\";}#sk-container-id-1 div.sk-estimator input.sk-toggleable__control:checked~label.sk-toggleable__label {background-color: #d4ebff;}#sk-container-id-1 div.sk-label input.sk-toggleable__control:checked~label.sk-toggleable__label {background-color: #d4ebff;}#sk-container-id-1 input.sk-hidden--visually {border: 0;clip: rect(1px 1px 1px 1px);clip: rect(1px, 1px, 1px, 1px);height: 1px;margin: -1px;overflow: hidden;padding: 0;position: absolute;width: 1px;}#sk-container-id-1 div.sk-estimator {font-family: monospace;background-color: #f0f8ff;border: 1px dotted black;border-radius: 0.25em;box-sizing: border-box;margin-bottom: 0.5em;}#sk-container-id-1 div.sk-estimator:hover {background-color: #d4ebff;}#sk-container-id-1 div.sk-parallel-item::after {content: \"\";width: 100%;border-bottom: 1px solid gray;flex-grow: 1;}#sk-container-id-1 div.sk-label:hover label.sk-toggleable__label {background-color: #d4ebff;}#sk-container-id-1 div.sk-serial::before {content: \"\";position: absolute;border-left: 1px solid gray;box-sizing: border-box;top: 0;bottom: 0;left: 50%;z-index: 0;}#sk-container-id-1 div.sk-serial {display: flex;flex-direction: column;align-items: center;background-color: white;padding-right: 0.2em;padding-left: 0.2em;position: relative;}#sk-container-id-1 div.sk-item {position: relative;z-index: 1;}#sk-container-id-1 div.sk-parallel {display: flex;align-items: stretch;justify-content: center;background-color: white;position: relative;}#sk-container-id-1 div.sk-item::before, #sk-container-id-1 div.sk-parallel-item::before {content: \"\";position: absolute;border-left: 1px solid gray;box-sizing: border-box;top: 0;bottom: 0;left: 50%;z-index: -1;}#sk-container-id-1 div.sk-parallel-item {display: flex;flex-direction: column;z-index: 1;position: relative;background-color: white;}#sk-container-id-1 div.sk-parallel-item:first-child::after {align-self: flex-end;width: 50%;}#sk-container-id-1 div.sk-parallel-item:last-child::after {align-self: flex-start;width: 50%;}#sk-container-id-1 div.sk-parallel-item:only-child::after {width: 0;}#sk-container-id-1 div.sk-dashed-wrapped {border: 1px dashed gray;margin: 0 0.4em 0.5em 0.4em;box-sizing: border-box;padding-bottom: 0.4em;background-color: white;}#sk-container-id-1 div.sk-label label {font-family: monospace;font-weight: bold;display: inline-block;line-height: 1.2em;}#sk-container-id-1 div.sk-label-container {text-align: center;}#sk-container-id-1 div.sk-container {/* jupyter's `normalize.less` sets `[hidden] { display: none; }` but bootstrap.min.css set `[hidden] { display: none !important; }` so we also need the `!important` here to be able to override the default hidden behavior on the sphinx rendered scikit-learn.org. See: https://github.com/scikit-learn/scikit-learn/issues/21755 */display: inline-block !important;position: relative;}#sk-container-id-1 div.sk-text-repr-fallback {display: none;}</style><div id=\"sk-container-id-1\" class=\"sk-top-container\"><div class=\"sk-text-repr-fallback\"><pre>LogisticRegression(random_state=12)</pre><b>In a Jupyter environment, please rerun this cell to show the HTML representation or trust the notebook. <br />On GitHub, the HTML representation is unable to render, please try loading this page with nbviewer.org.</b></div><div class=\"sk-container\" hidden><div class=\"sk-item\"><div class=\"sk-estimator sk-toggleable\"><input class=\"sk-toggleable__control sk-hidden--visually\" id=\"sk-estimator-id-1\" type=\"checkbox\" checked><label for=\"sk-estimator-id-1\" class=\"sk-toggleable__label sk-toggleable__label-arrow\">LogisticRegression</label><div class=\"sk-toggleable__content\"><pre>LogisticRegression(random_state=12)</pre></div></div></div></div></div>"
      ],
      "text/plain": [
       "LogisticRegression(random_state=12)"
      ]
     },
     "execution_count": 10,
     "metadata": {},
     "output_type": "execute_result"
    }
   ],
   "source": [
    "from sklearn.linear_model import LogisticRegression\n",
    "clf = LogisticRegression(solver='lbfgs', random_state = 12)\n",
    "clf.fit(X_train_vect,y_train)"
   ]
  },
  {
   "cell_type": "code",
   "execution_count": 11,
   "id": "caeac878",
   "metadata": {
    "scrolled": false
   },
   "outputs": [
    {
     "data": {
      "text/plain": [
       "['0l-l2j5NAIqtychRNs17Dw',\n",
       " 'LR6nRVRoP0g_wqqlIE8Ynw',\n",
       " 'PGbKlytumI2WaIefhtCALw',\n",
       " 'B_HkncKcyD0ZL3LsHmnzqg',\n",
       " 'Um1WimKhVLw3KB-OzRYfyQ',\n",
       " 'YV0VaJgV2zotzI7XNUaMCQ',\n",
       " 'oXVZ9OqrC55fp-3hDBvRCQ',\n",
       " 'jPIZ3FR5LNcwPuUHi2Fe4g',\n",
       " 'EW7kFuXTsXRQ4Kp7j6qxHw',\n",
       " '0Ao9422D82WgsiUbr_t_Qg',\n",
       " 'in7QM4vNUTHVZIi7Outetg',\n",
       " 'NBVvD__J9JjomKtdds6Gvg',\n",
       " 'cLXIlxKwnvUPg8JoxdfNwg',\n",
       " 'hcVN7B1tw4jvRTiORTFKjA',\n",
       " '_yInwn1jLMDuPaSuap-Jrg',\n",
       " 'Tr942SPajn138V7ZDx7Ckw',\n",
       " 'AiOb7w3Z9jS8XJdamgbU_A',\n",
       " 'J8n4z6pqHt8tiHkAaA0JVg',\n",
       " 'RbhDdQfSY4x_CM4HQDSHUA',\n",
       " 'p4EQbVuLddcTrgw_K8n8OA']"
      ]
     },
     "execution_count": 11,
     "metadata": {},
     "output_type": "execute_result"
    }
   ],
   "source": [
    "# Llave privada de YELP API\n",
    "API_KEY = 'ZCiemO3dscUrsLb8INf1d3KaA6hZPEkhbmvCu6va162wz4c2G-04aiCGEux729ZetfonkA41i68V2AIsFMxhXR68sa0xteZQRmot_J8KhRjvU_KFRxVxurlgOuJGZHYx'\n",
    "headers = {'Authorization': f'Bearer {API_KEY}'}\n",
    "params = {'term': 'McDonalds', 'location': 'New York'}\n",
    "\n",
    "url = 'https://api.yelp.com/v3/businesses/search'\n",
    "response = requests.get(url, headers=headers, params=params)\n",
    "\n",
    "businesses = response.json()['businesses']\n",
    "\n",
    "business_ids = []\n",
    "\n",
    "if businesses:\n",
    "    x = 0\n",
    "    for i in businesses:\n",
    "        a = i['id']\n",
    "        business_ids.append(a)\n",
    "        x += 1\n",
    "else:\n",
    "    print(\"No businesses found for the search term.\")\n",
    "    \n",
    "business_ids"
   ]
  },
  {
   "cell_type": "code",
   "execution_count": 12,
   "id": "73105e5d",
   "metadata": {},
   "outputs": [],
   "source": [
    "url = 'https://api.yelp.com/v3/businesses/{}/reviews'\n",
    "\n",
    "def get_reviews_dataframe(business_ids):\n",
    "    dfs=[]\n",
    "    for id in business_ids:\n",
    "        params = {'sort_by': 'desc'}\n",
    "        \n",
    "        response = requests.get(url.format(id), headers=headers, params=params)\n",
    "        reviews = response.json()['reviews']\n",
    "        \n",
    "        df = pd.DataFrame(reviews, columns=['id', 'text', 'rating', 'time_created', 'user'])\n",
    "        \n",
    "        dfs.append(df)\n",
    "        \n",
    "    return pd.concat(dfs, ignore_index=True)"
   ]
  },
  {
   "cell_type": "code",
   "execution_count": 13,
   "id": "b787c33e",
   "metadata": {
    "scrolled": false
   },
   "outputs": [],
   "source": [
    "reviews_df = get_reviews_dataframe(business_ids)"
   ]
  },
  {
   "cell_type": "code",
   "execution_count": 14,
   "id": "7f4cfe66",
   "metadata": {
    "scrolled": false
   },
   "outputs": [
    {
     "name": "stdout",
     "output_type": "stream",
     "text": [
      "0.31240831406558495\n"
     ]
    }
   ],
   "source": [
    "ps = PorterStemmer()\n",
    "\n",
    "test = \"Stay away from this place\" \n",
    "\n",
    "def pre_p(a):\n",
    "    p = re.sub('[^a-zA-Z]',' ',a)\n",
    "    p = p.lower()\n",
    "    p = p.split()\n",
    "    p = [ps.stem(word) for word in p if word not in set(stopwords.words('english'))]\n",
    "    p = ' '.join(p)\n",
    "    ejemplo = vectorizer.transform([p])\n",
    "    return ejemplo.toarray()\n",
    "\n",
    "prediction =clf.predict_proba(pre_p(test))\n",
    "\n",
    "print(prediction[0][1])\n"
   ]
  },
  {
   "cell_type": "code",
   "execution_count": 15,
   "id": "019726c5",
   "metadata": {
    "scrolled": true
   },
   "outputs": [],
   "source": [
    "reviews_df['pro_text'] = reviews_df['text'].apply(pre_p)"
   ]
  },
  {
   "cell_type": "code",
   "execution_count": 16,
   "id": "e969110a",
   "metadata": {
    "scrolled": false
   },
   "outputs": [],
   "source": [
    "a = reviews_df['pro_text']\n",
    "scores = []\n",
    "\n",
    "for i in a:\n",
    "    pred = clf.predict_proba(i)[0][1]\n",
    "    scores.append(pred)\n",
    "    \n",
    "reviews_df['score'] = pd.Series(scores)"
   ]
  },
  {
   "cell_type": "code",
   "execution_count": 17,
   "id": "5703fbcf",
   "metadata": {
    "scrolled": false
   },
   "outputs": [],
   "source": [
    "# Make every column string to be able to upload to bigquery without a problem\n",
    "\n",
    "reviews_df['id'] = reviews_df['id'].astype(str)\n",
    "reviews_df['text'] = reviews_df['text'].astype(str)\n",
    "reviews_df['rating'] = reviews_df['rating'].astype(str)\n",
    "reviews_df['time_created'] = reviews_df['time_created'].astype(str)\n",
    "reviews_df['user'] = reviews_df['user'].astype(str)\n",
    "reviews_df['score'] = reviews_df['score'].astype(str)\n",
    "reviews_df = reviews_df.drop('pro_text', axis=1)\n"
   ]
  },
  {
   "cell_type": "code",
   "execution_count": 18,
   "id": "8df84541",
   "metadata": {},
   "outputs": [],
   "source": [
    "reviews_df = reviews_df"
   ]
  },
  {
   "cell_type": "code",
   "execution_count": 20,
   "id": "222eedbb",
   "metadata": {
    "scrolled": false
   },
   "outputs": [
    {
     "name": "stdout",
     "output_type": "stream",
     "text": [
      "Loaded 60 rows and 6 columns to ms-gauss-test.predictions.predictions\n"
     ]
    }
   ],
   "source": [
    "from google.cloud import bigquery\n",
    "client = bigquery.Client()\n",
    "\n",
    "dataset_id = 'predictions' # replace with your dataset ID\n",
    "table_id = 'ms-gauss-test.predictions.predictions' # replace with your table ID\n",
    "\n",
    "dataset_ref = client.dataset(dataset_id)\n",
    "table_ref = dataset_ref.table(table_id)\n",
    "\n",
    "job_config = bigquery.LoadJobConfig(\n",
    "    schema = [\n",
    "        bigquery.SchemaField('id', bigquery.enums.SqlTypeNames.STRING),\n",
    "        bigquery.SchemaField('text', bigquery.enums.SqlTypeNames.STRING),\n",
    "        bigquery.SchemaField('rating', bigquery.enums.SqlTypeNames.STRING),\n",
    "        bigquery.SchemaField('time_created', bigquery.enums.SqlTypeNames.STRING),\n",
    "        bigquery.SchemaField('user', bigquery.enums.SqlTypeNames.STRING),\n",
    "        bigquery.SchemaField('score', bigquery.enums.SqlTypeNames.STRING),\n",
    "    ],\n",
    "    write_disposition = \"WRITE_TRUNCATE\"\n",
    "\n",
    ")\n",
    "job = client.load_table_from_dataframe(\n",
    "    reviews_df, table_id, job_config=job_config)\n",
    "\n",
    "job.result()\n",
    "\n",
    "\n",
    "table = client.get_table(table_id)  # Make an API request.\n",
    "print(\n",
    "    \"Loaded {} rows and {} columns to {}\".format(\n",
    "        table.num_rows, len(table.schema), table_id\n",
    "    )\n",
    ")"
   ]
  }
 ],
 "metadata": {
  "kernelspec": {
   "display_name": "Python 3 (ipykernel)",
   "language": "python",
   "name": "python3"
  },
  "language_info": {
   "codemirror_mode": {
    "name": "ipython",
    "version": 3
   },
   "file_extension": ".py",
   "mimetype": "text/x-python",
   "name": "python",
   "nbconvert_exporter": "python",
   "pygments_lexer": "ipython3",
   "version": "3.10.9"
  }
 },
 "nbformat": 4,
 "nbformat_minor": 5
}
